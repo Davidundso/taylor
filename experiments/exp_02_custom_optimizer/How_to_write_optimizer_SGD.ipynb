{
 "cells": [
  {
   "cell_type": "markdown",
   "id": "19ecc1ac",
   "metadata": {},
   "source": [
    "## Step-by-Step Guide to Implementing a Custom Optimizer in PyTorch\n",
    "\n",
    "### (1) Import Necessary Libraries\n"
   ]
  },
  {
   "cell_type": "code",
   "execution_count": 1,
   "id": "266d7161",
   "metadata": {},
   "outputs": [],
   "source": [
    "import torch\n",
    "from torch.optim.optimizer import Optimizer\n"
   ]
  },
  {
   "cell_type": "markdown",
   "id": "6f350b4c",
   "metadata": {},
   "source": [
    "### (2) Define custom optimizer class \n",
    "\n",
    "Create a class which inherits from `torch.optim.Optimize`"
   ]
  },
  {
   "cell_type": "code",
   "execution_count": 4,
   "id": "73242f07",
   "metadata": {},
   "outputs": [],
   "source": [
    "class SGD_no_momentum(Optimizer):\n",
    "    def __init__(self, params, lr=0.001):\n",
    "        defaults = dict(lr=lr)  # Store default parameters (like learning rate) in a dictionary\n",
    "        # Initialize the base Optimizer class with parameters:\n",
    "        super(SGD_no_momentum, self).__init__(params, defaults)  \n",
    "\n",
    "    def step(self, closure=None):\n",
    "        if closure is not None:\n",
    "            closure()  # If a closure function is provided, execute it (used for evaluating the loss)\n",
    "        \n",
    "        \n",
    "        # Loop over parameter groups (useful for different hyperparameters for different parameters)\n",
    "        for group in self.param_groups:\n",
    "            lr = group['lr']\n",
    "            for p in group['params']:  # Loop over parameters in the group\n",
    "                if p.grad is None:\n",
    "                    continue  # Skip parameters that do not have gradients\n",
    "                grad = p.grad.data  # Retrieve the gradient data for the parameter\n",
    "                p.data.add_(-lr, grad)  # Update the parameter using the gradient and learning rate\n",
    "                \n",
    "                \n",
    "    def adjust_learning_rate(self, new_lr):\n",
    "        # Method to adjust learning rate dynamically\n",
    "        for group in self.param_groups:\n",
    "            group['lr'] = new_lr"
   ]
  },
  {
   "cell_type": "markdown",
   "id": "9669a149",
   "metadata": {},
   "source": [
    "### (3) Initialize in a simple model"
   ]
  },
  {
   "cell_type": "code",
   "execution_count": 18,
   "id": "b9945b17",
   "metadata": {},
   "outputs": [
    {
     "name": "stdout",
     "output_type": "stream",
     "text": [
      "Epoch 1/100, Loss: 2.4916\n",
      "Epoch 11/100, Loss: 1.7430\n",
      "Epoch 21/100, Loss: 1.2204\n",
      "Epoch 31/100, Loss: 0.8554\n",
      "Epoch 41/100, Loss: 0.6005\n",
      "Epoch 51/100, Loss: 0.4224\n",
      "Epoch 61/100, Loss: 0.2979\n",
      "Epoch 71/100, Loss: 0.2109\n",
      "Epoch 81/100, Loss: 0.1501\n",
      "Epoch 91/100, Loss: 0.1075\n",
      "Predicted values: tensor([[1.7556],\n",
      "        [2.6341]])\n"
     ]
    }
   ],
   "source": [
    "import torch\n",
    "import torch.nn as nn\n",
    "\n",
    "# Create a simple linear regression model\n",
    "model = nn.Linear(1, 1)\n",
    "\n",
    "# Define loss function and optimizer\n",
    "criterion = nn.MSELoss()\n",
    "optimizer = SGD_no_momentum(model.parameters(), lr=0.01)  # Call parameters() method\n",
    "\n",
    "# Sample data\n",
    "x = torch.randn(100, 1)\n",
    "y = 2 * x + 1 + 0.1 * torch.randn(100, 1)\n",
    "\n",
    "# Training loop\n",
    "num_epochs = 100\n",
    "for epoch in range(num_epochs):\n",
    "    # Forward pass\n",
    "    output = model(x)\n",
    "    loss = criterion(output, y)\n",
    "\n",
    "    # Backward pass and optimization\n",
    "    optimizer.zero_grad()\n",
    "    loss.backward()\n",
    "    optimizer.step()\n",
    "\n",
    "    # Print loss every 10 epochs\n",
    "    if epoch % 10 == 0:\n",
    "        print(f'Epoch {epoch+1}/{num_epochs}, Loss: {loss.item():.4f}')\n",
    "\n",
    "# Evaluate the model\n",
    "with torch.no_grad():\n",
    "    test_x = torch.tensor([[0.5], [1.0]])\n",
    "    test_y = model(test_x)\n",
    "    print(\"Predicted values:\", test_y)"
   ]
  },
  {
   "cell_type": "markdown",
   "id": "b893bf28",
   "metadata": {},
   "source": [
    "Not finished - provide more explanations!"
   ]
  }
 ],
 "metadata": {
  "kernelspec": {
   "display_name": "Python 3 (ipykernel)",
   "language": "python",
   "name": "python3"
  },
  "language_info": {
   "codemirror_mode": {
    "name": "ipython",
    "version": 3
   },
   "file_extension": ".py",
   "mimetype": "text/x-python",
   "name": "python",
   "nbconvert_exporter": "python",
   "pygments_lexer": "ipython3",
   "version": "3.11.7"
  }
 },
 "nbformat": 4,
 "nbformat_minor": 5
}
