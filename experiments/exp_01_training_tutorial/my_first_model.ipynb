{
 "cells": [
  {
   "cell_type": "markdown",
   "id": "3d4f5d55",
   "metadata": {},
   "source": [
    "I will try to explain and do the following steps:\n",
    "Load Data\n",
    "Define PyToch Model\n",
    "Define Loss Function and Optimizers\n",
    "Run a Training Loop\n",
    "Evaluate the Model\n",
    "Make Predictions\n",
    "\n",
    "### (1) Load Data\n",
    "\n",
    "First the following imports are needed:"
   ]
  },
  {
   "cell_type": "code",
   "execution_count": 19,
   "id": "bbf998bc",
   "metadata": {},
   "outputs": [],
   "source": [
    "import numpy as np\n",
    "import torch\n",
    "import torch.nn as nn\n",
    "import torch.optim as optim"
   ]
  },
  {
   "cell_type": "code",
   "execution_count": 20,
   "id": "cbe57cbe",
   "metadata": {},
   "outputs": [
    {
     "name": "stdout",
     "output_type": "stream",
     "text": [
      "X shape: (768, 8), y shape: (768,)\n",
      "First 10 datapoints in NumPy array X:\n",
      "[[6.000e+00 1.480e+02 7.200e+01 3.500e+01 0.000e+00 3.360e+01 6.270e-01\n",
      "  5.000e+01]\n",
      " [1.000e+00 8.500e+01 6.600e+01 2.900e+01 0.000e+00 2.660e+01 3.510e-01\n",
      "  3.100e+01]\n",
      " [8.000e+00 1.830e+02 6.400e+01 0.000e+00 0.000e+00 2.330e+01 6.720e-01\n",
      "  3.200e+01]\n",
      " [1.000e+00 8.900e+01 6.600e+01 2.300e+01 9.400e+01 2.810e+01 1.670e-01\n",
      "  2.100e+01]\n",
      " [0.000e+00 1.370e+02 4.000e+01 3.500e+01 1.680e+02 4.310e+01 2.288e+00\n",
      "  3.300e+01]\n",
      " [5.000e+00 1.160e+02 7.400e+01 0.000e+00 0.000e+00 2.560e+01 2.010e-01\n",
      "  3.000e+01]\n",
      " [3.000e+00 7.800e+01 5.000e+01 3.200e+01 8.800e+01 3.100e+01 2.480e-01\n",
      "  2.600e+01]\n",
      " [1.000e+01 1.150e+02 0.000e+00 0.000e+00 0.000e+00 3.530e+01 1.340e-01\n",
      "  2.900e+01]\n",
      " [2.000e+00 1.970e+02 7.000e+01 4.500e+01 5.430e+02 3.050e+01 1.580e-01\n",
      "  5.300e+01]\n",
      " [8.000e+00 1.250e+02 9.600e+01 0.000e+00 0.000e+00 0.000e+00 2.320e-01\n",
      "  5.400e+01]]\n",
      "\n",
      "First 10 datapoints in NumPy array y:\n",
      "[1. 0. 1. 0. 1. 0. 1. 0. 1. 1.]\n"
     ]
    }
   ],
   "source": [
    "# load the dataset, split into input (X) and output (y) variables\n",
    "# output will be a numpy array\n",
    "dataset = np.loadtxt('pima-indians-diabetes.csv', delimiter=',') # values are separated by commas\n",
    "X = dataset[:,0:8] # slicing the dataset: select rows 0 - 7\n",
    "y = dataset[:,8]   # slicing: select row 8 (output)\n",
    "print(f\"X shape: {X.shape}, y shape: {y.shape}\") # 786 data points, each 8 input dims and one output dim\n",
    "# Print the first 10 datapoints from the NumPy arrays (X and y)\n",
    "print(\"First 10 datapoints in NumPy array X:\")\n",
    "print(X[:10])  # First 10 rows of X\n",
    "print(\"\\nFirst 10 datapoints in NumPy array y:\")\n",
    "print(y[:10])  # First 10 values in y"
   ]
  },
  {
   "cell_type": "markdown",
   "id": "f6012b95",
   "metadata": {},
   "source": [
    "PyTorch works with the \"tensor\" data type, one should convert e.g. bc NumPy uses 64 bit floats and PyTorch uses 32 bit floats"
   ]
  },
  {
   "cell_type": "code",
   "execution_count": 25,
   "id": "b43e303a",
   "metadata": {},
   "outputs": [
    {
     "name": "stdout",
     "output_type": "stream",
     "text": [
      "\n",
      "First 10 datapoints in PyTorch tensor X:\n",
      "tensor([[6.0000e+00, 1.4800e+02, 7.2000e+01, 3.5000e+01, 0.0000e+00, 3.3600e+01,\n",
      "         6.2700e-01, 5.0000e+01],\n",
      "        [1.0000e+00, 8.5000e+01, 6.6000e+01, 2.9000e+01, 0.0000e+00, 2.6600e+01,\n",
      "         3.5100e-01, 3.1000e+01],\n",
      "        [8.0000e+00, 1.8300e+02, 6.4000e+01, 0.0000e+00, 0.0000e+00, 2.3300e+01,\n",
      "         6.7200e-01, 3.2000e+01],\n",
      "        [1.0000e+00, 8.9000e+01, 6.6000e+01, 2.3000e+01, 9.4000e+01, 2.8100e+01,\n",
      "         1.6700e-01, 2.1000e+01],\n",
      "        [0.0000e+00, 1.3700e+02, 4.0000e+01, 3.5000e+01, 1.6800e+02, 4.3100e+01,\n",
      "         2.2880e+00, 3.3000e+01],\n",
      "        [5.0000e+00, 1.1600e+02, 7.4000e+01, 0.0000e+00, 0.0000e+00, 2.5600e+01,\n",
      "         2.0100e-01, 3.0000e+01],\n",
      "        [3.0000e+00, 7.8000e+01, 5.0000e+01, 3.2000e+01, 8.8000e+01, 3.1000e+01,\n",
      "         2.4800e-01, 2.6000e+01],\n",
      "        [1.0000e+01, 1.1500e+02, 0.0000e+00, 0.0000e+00, 0.0000e+00, 3.5300e+01,\n",
      "         1.3400e-01, 2.9000e+01],\n",
      "        [2.0000e+00, 1.9700e+02, 7.0000e+01, 4.5000e+01, 5.4300e+02, 3.0500e+01,\n",
      "         1.5800e-01, 5.3000e+01],\n",
      "        [8.0000e+00, 1.2500e+02, 9.6000e+01, 0.0000e+00, 0.0000e+00, 0.0000e+00,\n",
      "         2.3200e-01, 5.4000e+01]])\n",
      "\n",
      "First 10 datapoints in PyTorch tensor y:\n",
      "tensor([[1.],\n",
      "        [0.],\n",
      "        [1.],\n",
      "        [0.],\n",
      "        [1.],\n",
      "        [0.],\n",
      "        [1.],\n",
      "        [0.],\n",
      "        [1.],\n",
      "        [1.]])\n"
     ]
    }
   ],
   "source": [
    "# Convert to PyTorch tensors\n",
    "X = torch.tensor(X, dtype=torch.float32)\n",
    "y = torch.tensor(y, dtype=torch.float32).reshape(-1, 1) # y is a 1D Object with elements [1.0 0.0 1.0 ...]\n",
    "# it has no rows or columns. For torch it expects 2D as output dim, so we convert to [[1.0],\n",
    "#                                                                                     [0.0] ...]\n",
    "\n",
    "# Print the first 10 datapoints from the PyTorch tensors (X and y)\n",
    "print(\"\\nFirst 10 datapoints in PyTorch tensor X:\")\n",
    "print(X_tensor[:10])  # First 10 rows of X as a tensor\n",
    "print(\"\\nFirst 10 datapoints in PyTorch tensor y:\")\n",
    "print(y_tensor[:10])  # First 10 values of y as a tensor"
   ]
  },
  {
   "cell_type": "markdown",
   "id": "3d5b2eeb",
   "metadata": {},
   "source": [
    "The reshape operation changes y from a 1D to a 2D array:\n",
    "befor y is 1D: y = [0, 1, 1, 0, 1] \n",
    "\n",
    "after, each element has its own row: \n",
    "y = [[0], [1],\n",
    "     [1],\n",
    "     [0],\n",
    "     [1]]\n",
    "     \n",
    "This is done because PyTorch expects/prefers this format.\n",
    "\n",
    "### (2) Define the model\n",
    "\n",
    "The standart way to do this is by writing a class that inherits from the torch.nn.Module and then defining the layers sequentially. \n",
    "Of course: The input layer must fit the dimension of the input\n"
   ]
  },
  {
   "cell_type": "code",
   "execution_count": 26,
   "id": "19234936",
   "metadata": {},
   "outputs": [
    {
     "name": "stdout",
     "output_type": "stream",
     "text": [
      "PimaClassifier(\n",
      "  (hidden1): Linear(in_features=8, out_features=12, bias=True)\n",
      "  (act1): ReLU()\n",
      "  (hidden2): Linear(in_features=12, out_features=8, bias=True)\n",
      "  (act2): ReLU()\n",
      "  (output): Linear(in_features=8, out_features=1, bias=True)\n",
      "  (act_output): Sigmoid()\n",
      ")\n"
     ]
    }
   ],
   "source": [
    "class PimaClassifier(nn.Module):          # inherit from nn.Module, basic class for neural networks\n",
    "    def __init__(self):                   # init is called when instance of PimaClassifier is created\n",
    "        super().__init__()                # call the parents` class constructor (necessary!)\n",
    "        self.hidden1 = nn.Linear(8, 12)   # Linear Layer: 8 inputs, 12 outputs\n",
    "        self.act1 = nn.ReLU()             # activation function for the layer: ReLu\n",
    "        self.hidden2 = nn.Linear(12, 8)   # 2nd layer: 12 in, 8 out\n",
    "        self.act2 = nn.ReLU()\n",
    "        self.output = nn.Linear(8, 1)     # Output layer: In this case (classification) one output neuron\n",
    "        self.act_output = nn.Sigmoid()    # Sigmoid fct for classification problem\n",
    "\n",
    "    def forward(self, x):                 # define how the data is passed forward through the network\n",
    "        x = self.act1(self.hidden1(x))    # Verkettung: Lineare fkt innen, Aktivierungsfkt außen\n",
    "        x = self.act2(self.hidden2(x))    \n",
    "        x = self.act_output(self.output(x))\n",
    "        return x\n",
    "\n",
    "model = PimaClassifier()\n",
    "print(model)"
   ]
  },
  {
   "cell_type": "markdown",
   "id": "3a1a2fe8",
   "metadata": {},
   "source": [
    "### (3) Preparation for training \n",
    "define loss function (binary classification = binary cross entropy loss) \n",
    "choose optimizer (standart = adam)"
   ]
  },
  {
   "cell_type": "code",
   "execution_count": 27,
   "id": "ee06f4e2",
   "metadata": {},
   "outputs": [],
   "source": [
    "loss_fn = nn.BCELoss()  # binary cross entropy\n",
    "optimizer = optim.Adam(model.parameters(), lr=0.001) # adam has more hyperparams than the learning rate"
   ]
  },
  {
   "cell_type": "markdown",
   "id": "ec38dffe",
   "metadata": {},
   "source": [
    "### (4) Training the model  \n",
    "\n",
    "Epoch: Passes the entire training dataset to the model once \n",
    "\n",
    "Batch: One or more samples passed to the model, from which the gradient descent algorithm will be executed for one iteration (batch size linearly in relation to the number of computations) \n",
    "\n",
    "Pass batches (whole data in batches) in loops (epochs) through the model until satisfied with the models output. \n",
    " \n",
    " The simplest way to build a training loop is to use two nested for-loops, one for epochs and one for batches:"
   ]
  },
  {
   "cell_type": "code",
   "execution_count": 28,
   "id": "7c88b539",
   "metadata": {},
   "outputs": [
    {
     "name": "stdout",
     "output_type": "stream",
     "text": [
      "Finished epoch 0, latest loss 0.6246140003204346\n",
      "Finished epoch 1, latest loss 0.6292789578437805\n",
      "Finished epoch 2, latest loss 0.6256213188171387\n",
      "Finished epoch 3, latest loss 0.6078948974609375\n",
      "Finished epoch 4, latest loss 0.5829925537109375\n",
      "Finished epoch 5, latest loss 0.5649218559265137\n",
      "Finished epoch 6, latest loss 0.552021861076355\n",
      "Finished epoch 7, latest loss 0.5435589551925659\n",
      "Finished epoch 8, latest loss 0.5360323786735535\n",
      "Finished epoch 9, latest loss 0.5319582223892212\n",
      "Finished epoch 10, latest loss 0.528340220451355\n",
      "Finished epoch 11, latest loss 0.5259295701980591\n",
      "Finished epoch 12, latest loss 0.5268047451972961\n",
      "Finished epoch 13, latest loss 0.5282303094863892\n",
      "Finished epoch 14, latest loss 0.5231646299362183\n",
      "Finished epoch 15, latest loss 0.5265318155288696\n",
      "Finished epoch 16, latest loss 0.5174545049667358\n",
      "Finished epoch 17, latest loss 0.5159606337547302\n",
      "Finished epoch 18, latest loss 0.5168362259864807\n",
      "Finished epoch 19, latest loss 0.5211670994758606\n",
      "Finished epoch 20, latest loss 0.5137568116188049\n",
      "Finished epoch 21, latest loss 0.5183989405632019\n",
      "Finished epoch 22, latest loss 0.5175472497940063\n",
      "Finished epoch 23, latest loss 0.51952064037323\n",
      "Finished epoch 24, latest loss 0.5162507891654968\n",
      "Finished epoch 25, latest loss 0.5161873698234558\n",
      "Finished epoch 26, latest loss 0.5180332064628601\n",
      "Finished epoch 27, latest loss 0.5153992176055908\n",
      "Finished epoch 28, latest loss 0.5188538432121277\n",
      "Finished epoch 29, latest loss 0.5124130249023438\n",
      "Finished epoch 30, latest loss 0.5130500197410583\n",
      "Finished epoch 31, latest loss 0.5159984827041626\n",
      "Finished epoch 32, latest loss 0.5142226219177246\n",
      "Finished epoch 33, latest loss 0.5127074718475342\n",
      "Finished epoch 34, latest loss 0.5108895301818848\n",
      "Finished epoch 35, latest loss 0.5152116417884827\n",
      "Finished epoch 36, latest loss 0.5122972726821899\n",
      "Finished epoch 37, latest loss 0.5182644724845886\n",
      "Finished epoch 38, latest loss 0.5103759765625\n",
      "Finished epoch 39, latest loss 0.5047427415847778\n",
      "Finished epoch 40, latest loss 0.5016692280769348\n",
      "Finished epoch 41, latest loss 0.5000995993614197\n",
      "Finished epoch 42, latest loss 0.4966232180595398\n",
      "Finished epoch 43, latest loss 0.49813342094421387\n",
      "Finished epoch 44, latest loss 0.49554798007011414\n",
      "Finished epoch 45, latest loss 0.49432581663131714\n",
      "Finished epoch 46, latest loss 0.4947372376918793\n",
      "Finished epoch 47, latest loss 0.4914606213569641\n",
      "Finished epoch 48, latest loss 0.4944098889827728\n",
      "Finished epoch 49, latest loss 0.4940110743045807\n",
      "Finished epoch 50, latest loss 0.49294695258140564\n",
      "Finished epoch 51, latest loss 0.4898890554904938\n",
      "Finished epoch 52, latest loss 0.49084916710853577\n",
      "Finished epoch 53, latest loss 0.48943042755126953\n",
      "Finished epoch 54, latest loss 0.4905300736427307\n",
      "Finished epoch 55, latest loss 0.48742759227752686\n",
      "Finished epoch 56, latest loss 0.4890193045139313\n",
      "Finished epoch 57, latest loss 0.48380082845687866\n",
      "Finished epoch 58, latest loss 0.48544877767562866\n",
      "Finished epoch 59, latest loss 0.48384809494018555\n",
      "Finished epoch 60, latest loss 0.48565009236335754\n",
      "Finished epoch 61, latest loss 0.4801267683506012\n",
      "Finished epoch 62, latest loss 0.48213016986846924\n",
      "Finished epoch 63, latest loss 0.47961312532424927\n",
      "Finished epoch 64, latest loss 0.4845523536205292\n",
      "Finished epoch 65, latest loss 0.4784786105155945\n",
      "Finished epoch 66, latest loss 0.4762791097164154\n",
      "Finished epoch 67, latest loss 0.4773683547973633\n",
      "Finished epoch 68, latest loss 0.47118058800697327\n",
      "Finished epoch 69, latest loss 0.47136738896369934\n",
      "Finished epoch 70, latest loss 0.4740213453769684\n",
      "Finished epoch 71, latest loss 0.46761760115623474\n",
      "Finished epoch 72, latest loss 0.46940937638282776\n",
      "Finished epoch 73, latest loss 0.46770817041397095\n",
      "Finished epoch 74, latest loss 0.46968671679496765\n",
      "Finished epoch 75, latest loss 0.4648886024951935\n",
      "Finished epoch 76, latest loss 0.46423012018203735\n",
      "Finished epoch 77, latest loss 0.46282079815864563\n",
      "Finished epoch 78, latest loss 0.4656023681163788\n",
      "Finished epoch 79, latest loss 0.458343505859375\n",
      "Finished epoch 80, latest loss 0.46395835280418396\n",
      "Finished epoch 81, latest loss 0.4582364559173584\n",
      "Finished epoch 82, latest loss 0.4606822729110718\n",
      "Finished epoch 83, latest loss 0.4537239968776703\n",
      "Finished epoch 84, latest loss 0.4597089886665344\n",
      "Finished epoch 85, latest loss 0.4528752267360687\n",
      "Finished epoch 86, latest loss 0.45829689502716064\n",
      "Finished epoch 87, latest loss 0.45215004682540894\n",
      "Finished epoch 88, latest loss 0.4547552168369293\n",
      "Finished epoch 89, latest loss 0.4514201581478119\n",
      "Finished epoch 90, latest loss 0.4479849338531494\n",
      "Finished epoch 91, latest loss 0.4458305835723877\n",
      "Finished epoch 92, latest loss 0.44855815172195435\n",
      "Finished epoch 93, latest loss 0.44522878527641296\n",
      "Finished epoch 94, latest loss 0.44398802518844604\n",
      "Finished epoch 95, latest loss 0.4445858895778656\n",
      "Finished epoch 96, latest loss 0.4426881968975067\n",
      "Finished epoch 97, latest loss 0.44191598892211914\n",
      "Finished epoch 98, latest loss 0.43900108337402344\n",
      "Finished epoch 99, latest loss 0.4411410391330719\n"
     ]
    }
   ],
   "source": [
    "n_epochs = 100\n",
    "batch_size = 10\n",
    "\n",
    "for epoch in range(n_epochs):               # Loop over the number of epochs\n",
    "    # Loop over the dataset in batches (batch gradient descent\n",
    "    for i in range(0, len(X), batch_size):  # range(start idx, end idx (stops one before), step size)\n",
    "        Xbatch = X[i:i+batch_size]          # Get a batch of input data (Xbatch) of size 'batch_size'\n",
    "        y_pred = model(Xbatch)              # Forward pass: compute the model's predictions for the current batch\n",
    "        ybatch = y[i:i+batch_size]          # Get the corresponding batch of target/output data (ybatch)\n",
    "        loss = loss_fn(y_pred, ybatch)      # Calculate the loss between the predictions (y_pred) and the actual targets (ybatch)\n",
    "        optimizer.zero_grad()               # Zero the gradients from the previous iteration (necessary before performing backprop)\n",
    "        loss.backward()                     # Backward pass: compute the gradients of the loss with respect to the model's parameters\n",
    "        optimizer.step()                    # Update the model's parameters using the gradients and the optimizer's learning rate\n",
    "\n",
    "    print(f'Finished epoch {epoch}, latest loss {loss}')\n"
   ]
  },
  {
   "cell_type": "markdown",
   "id": "4790db53",
   "metadata": {},
   "source": [
    "### (5) Evaluate the Model \n",
    "\n",
    "This training loop only uses one training set. Of course normally we have: Training set (80%), Validation set (10%) and Testset (10%) to get a real performance prediction. Here, we can only evaluate performance on the training data (so, do it the same way but on the testset) \n",
    "Reminder: **Accuracy** measures the proportion of correct predictions out of the total number of predictions:\n",
    "\n",
    "$ \\text{Accuracy} = \\frac{\\text{Correct Predictions}}{\\text{Total Predictions}} = \\frac{\\text{TP + TN}}{\\text{TP + TN + FP + FN}} $\n"
   ]
  },
  {
   "cell_type": "code",
   "execution_count": 29,
   "id": "6baf0ceb",
   "metadata": {},
   "outputs": [
    {
     "name": "stdout",
     "output_type": "stream",
     "text": [
      "Accuracy 0.7578125\n"
     ]
    }
   ],
   "source": [
    "# compute accuracy (no_grad is optional)\n",
    "with torch.no_grad():\n",
    "    y_pred = model(X)\n",
    "\n",
    "accuracy = (y_pred.round() == y).float().mean()\n",
    "print(f\"Accuracy {accuracy}\")"
   ]
  },
  {
   "cell_type": "markdown",
   "id": "c3dab386",
   "metadata": {},
   "source": [
    "The round() function rounds off the floating point to the nearest integer. The == operator compares and returns a Boolean tensor, which can be converted to floating point numbers 1.0 and 0.0. The mean() function will provide you the count of the number of 1’s (i.e., prediction matches the label) divided by the total number of samples. The no_grad() context is optional but suggested, so you relieve y_pred from remembering how it comes up with the number since you are not going to do differentiation on it. \n",
    "One could do the whole training a few times to see how different models perform (stochastic process!) \n",
    " \n",
    " ### (6) Make predictions \n",
    " We can now use the model to make predictions:"
   ]
  },
  {
   "cell_type": "code",
   "execution_count": 11,
   "id": "5e86078d",
   "metadata": {},
   "outputs": [
    {
     "name": "stdout",
     "output_type": "stream",
     "text": [
      "[6.0, 148.0, 72.0, 35.0, 0.0, 33.599998474121094, 0.6269999742507935, 50.0] => 1 (expected 1)\n",
      "[1.0, 85.0, 66.0, 29.0, 0.0, 26.600000381469727, 0.35100001096725464, 31.0] => 0 (expected 0)\n",
      "[8.0, 183.0, 64.0, 0.0, 0.0, 23.299999237060547, 0.671999990940094, 32.0] => 1 (expected 1)\n",
      "[1.0, 89.0, 66.0, 23.0, 94.0, 28.100000381469727, 0.16699999570846558, 21.0] => 0 (expected 0)\n",
      "[0.0, 137.0, 40.0, 35.0, 168.0, 43.099998474121094, 2.2880001068115234, 33.0] => 1 (expected 1)\n"
     ]
    }
   ],
   "source": [
    "# make class predictions with the model\n",
    "predictions = (model(X) > 0.5).int()\n",
    "for i in range(5):\n",
    "    print('%s => %d (expected %d)' % (X[i].tolist(), predictions[i], y[i]))"
   ]
  },
  {
   "cell_type": "markdown",
   "id": "7f7f6be8",
   "metadata": {},
   "source": [
    "### Summary \n",
    "You discovered how to create your first neural network model using PyTorch. Specifically, you learned the key steps in using PyTorch to create a neural network or deep learning model step by step, including:\n",
    "\n",
    "How to load data\n",
    "How to define a neural network in PyTorch\n",
    "How to train a model on data\n",
    "How to evaluate a model\n",
    "How to make predictions with the model"
   ]
  },
  {
   "cell_type": "code",
   "execution_count": null,
   "id": "54f33309",
   "metadata": {},
   "outputs": [],
   "source": []
  }
 ],
 "metadata": {
  "kernelspec": {
   "display_name": "Python 3 (ipykernel)",
   "language": "python",
   "name": "python3"
  },
  "language_info": {
   "codemirror_mode": {
    "name": "ipython",
    "version": 3
   },
   "file_extension": ".py",
   "mimetype": "text/x-python",
   "name": "python",
   "nbconvert_exporter": "python",
   "pygments_lexer": "ipython3",
   "version": "3.11.7"
  }
 },
 "nbformat": 4,
 "nbformat_minor": 5
}
